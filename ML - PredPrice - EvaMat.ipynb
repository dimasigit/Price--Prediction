{
 "cells": [
  {
   "cell_type": "markdown",
   "id": "13638f96",
   "metadata": {},
   "source": [
    "# Case "
   ]
  },
  {
   "cell_type": "raw",
   "id": "4bdb9737",
   "metadata": {},
   "source": [
    "Dimas mau membeli rumah di daerah King Country US dengan spek :\n",
    "    1. Jumlah kamar = 3\n",
    "    2. kamar mandi = 2\n",
    "    3. Luas rumah = 1800 sqft\n",
    "    4. Grade 7\n",
    "    5. Tahun pembuatan 1990\n",
    "Dataset yg digunakan dari (https://www.kaggle.com/datasets/shivachandel/kc-house-data)"
   ]
  },
  {
   "cell_type": "markdown",
   "id": "faf95bd8",
   "metadata": {},
   "source": [
    "# Penyelesaian "
   ]
  },
  {
   "cell_type": "markdown",
   "id": "67d167b2",
   "metadata": {},
   "source": [
    "Jika dilihat dari apa yg diinginkan Dimas, maka kita dapat menggunakan metode MLR dikarenakan memiliki lebih dari 1 variabel bebas.\n",
    "- Variabel bebas disini yaitu kriteria yg diinginkan Dimas\n",
    "- Variabel terikatnya adalah harga"
   ]
  },
  {
   "cell_type": "markdown",
   "id": "25e6f088",
   "metadata": {},
   "source": [
    "# Langkah-langkah penyelesaian"
   ]
  },
  {
   "cell_type": "markdown",
   "id": "dea7a4dd",
   "metadata": {},
   "source": [
    "## Import library yg diperlukan"
   ]
  },
  {
   "cell_type": "code",
   "execution_count": 1,
   "id": "679f64b3",
   "metadata": {},
   "outputs": [],
   "source": [
    "import pandas as pd\n",
    "import warnings\n",
    "import numpy as np\n",
    "warnings.filterwarnings('ignore')\n",
    "import matplotlib.pyplot as plt\n",
    "import seaborn as sns\n",
    "%matplotlib inline"
   ]
  },
  {
   "cell_type": "markdown",
   "id": "e30ce1fd",
   "metadata": {},
   "source": [
    "## Load dataset"
   ]
  },
  {
   "cell_type": "code",
   "execution_count": 2,
   "id": "87f4bbec",
   "metadata": {},
   "outputs": [
    {
     "data": {
      "text/html": [
       "<div>\n",
       "<style scoped>\n",
       "    .dataframe tbody tr th:only-of-type {\n",
       "        vertical-align: middle;\n",
       "    }\n",
       "\n",
       "    .dataframe tbody tr th {\n",
       "        vertical-align: top;\n",
       "    }\n",
       "\n",
       "    .dataframe thead th {\n",
       "        text-align: right;\n",
       "    }\n",
       "</style>\n",
       "<table border=\"1\" class=\"dataframe\">\n",
       "  <thead>\n",
       "    <tr style=\"text-align: right;\">\n",
       "      <th></th>\n",
       "      <th>id</th>\n",
       "      <th>date</th>\n",
       "      <th>price</th>\n",
       "      <th>bedrooms</th>\n",
       "      <th>bathrooms</th>\n",
       "      <th>sqft_living</th>\n",
       "      <th>sqft_lot</th>\n",
       "      <th>floors</th>\n",
       "      <th>waterfront</th>\n",
       "      <th>view</th>\n",
       "      <th>...</th>\n",
       "      <th>grade</th>\n",
       "      <th>sqft_above</th>\n",
       "      <th>sqft_basement</th>\n",
       "      <th>yr_built</th>\n",
       "      <th>yr_renovated</th>\n",
       "      <th>zipcode</th>\n",
       "      <th>lat</th>\n",
       "      <th>long</th>\n",
       "      <th>sqft_living15</th>\n",
       "      <th>sqft_lot15</th>\n",
       "    </tr>\n",
       "  </thead>\n",
       "  <tbody>\n",
       "    <tr>\n",
       "      <th>0</th>\n",
       "      <td>7129300520</td>\n",
       "      <td>20141013T000000</td>\n",
       "      <td>221900.0</td>\n",
       "      <td>3</td>\n",
       "      <td>1.00</td>\n",
       "      <td>1180</td>\n",
       "      <td>5650</td>\n",
       "      <td>1.0</td>\n",
       "      <td>0</td>\n",
       "      <td>0</td>\n",
       "      <td>...</td>\n",
       "      <td>7</td>\n",
       "      <td>1180.0</td>\n",
       "      <td>0</td>\n",
       "      <td>1955</td>\n",
       "      <td>0</td>\n",
       "      <td>98178</td>\n",
       "      <td>47.5112</td>\n",
       "      <td>-122.257</td>\n",
       "      <td>1340</td>\n",
       "      <td>5650</td>\n",
       "    </tr>\n",
       "    <tr>\n",
       "      <th>1</th>\n",
       "      <td>6414100192</td>\n",
       "      <td>20141209T000000</td>\n",
       "      <td>538000.0</td>\n",
       "      <td>3</td>\n",
       "      <td>2.25</td>\n",
       "      <td>2570</td>\n",
       "      <td>7242</td>\n",
       "      <td>2.0</td>\n",
       "      <td>0</td>\n",
       "      <td>0</td>\n",
       "      <td>...</td>\n",
       "      <td>7</td>\n",
       "      <td>2170.0</td>\n",
       "      <td>400</td>\n",
       "      <td>1951</td>\n",
       "      <td>1991</td>\n",
       "      <td>98125</td>\n",
       "      <td>47.7210</td>\n",
       "      <td>-122.319</td>\n",
       "      <td>1690</td>\n",
       "      <td>7639</td>\n",
       "    </tr>\n",
       "    <tr>\n",
       "      <th>2</th>\n",
       "      <td>5631500400</td>\n",
       "      <td>20150225T000000</td>\n",
       "      <td>180000.0</td>\n",
       "      <td>2</td>\n",
       "      <td>1.00</td>\n",
       "      <td>770</td>\n",
       "      <td>10000</td>\n",
       "      <td>1.0</td>\n",
       "      <td>0</td>\n",
       "      <td>0</td>\n",
       "      <td>...</td>\n",
       "      <td>6</td>\n",
       "      <td>770.0</td>\n",
       "      <td>0</td>\n",
       "      <td>1933</td>\n",
       "      <td>0</td>\n",
       "      <td>98028</td>\n",
       "      <td>47.7379</td>\n",
       "      <td>-122.233</td>\n",
       "      <td>2720</td>\n",
       "      <td>8062</td>\n",
       "    </tr>\n",
       "    <tr>\n",
       "      <th>3</th>\n",
       "      <td>2487200875</td>\n",
       "      <td>20141209T000000</td>\n",
       "      <td>604000.0</td>\n",
       "      <td>4</td>\n",
       "      <td>3.00</td>\n",
       "      <td>1960</td>\n",
       "      <td>5000</td>\n",
       "      <td>1.0</td>\n",
       "      <td>0</td>\n",
       "      <td>0</td>\n",
       "      <td>...</td>\n",
       "      <td>7</td>\n",
       "      <td>1050.0</td>\n",
       "      <td>910</td>\n",
       "      <td>1965</td>\n",
       "      <td>0</td>\n",
       "      <td>98136</td>\n",
       "      <td>47.5208</td>\n",
       "      <td>-122.393</td>\n",
       "      <td>1360</td>\n",
       "      <td>5000</td>\n",
       "    </tr>\n",
       "    <tr>\n",
       "      <th>4</th>\n",
       "      <td>1954400510</td>\n",
       "      <td>20150218T000000</td>\n",
       "      <td>510000.0</td>\n",
       "      <td>3</td>\n",
       "      <td>2.00</td>\n",
       "      <td>1680</td>\n",
       "      <td>8080</td>\n",
       "      <td>1.0</td>\n",
       "      <td>0</td>\n",
       "      <td>0</td>\n",
       "      <td>...</td>\n",
       "      <td>8</td>\n",
       "      <td>1680.0</td>\n",
       "      <td>0</td>\n",
       "      <td>1987</td>\n",
       "      <td>0</td>\n",
       "      <td>98074</td>\n",
       "      <td>47.6168</td>\n",
       "      <td>-122.045</td>\n",
       "      <td>1800</td>\n",
       "      <td>7503</td>\n",
       "    </tr>\n",
       "  </tbody>\n",
       "</table>\n",
       "<p>5 rows × 21 columns</p>\n",
       "</div>"
      ],
      "text/plain": [
       "           id             date     price  bedrooms  bathrooms  sqft_living  \\\n",
       "0  7129300520  20141013T000000  221900.0         3       1.00         1180   \n",
       "1  6414100192  20141209T000000  538000.0         3       2.25         2570   \n",
       "2  5631500400  20150225T000000  180000.0         2       1.00          770   \n",
       "3  2487200875  20141209T000000  604000.0         4       3.00         1960   \n",
       "4  1954400510  20150218T000000  510000.0         3       2.00         1680   \n",
       "\n",
       "   sqft_lot  floors  waterfront  view  ...  grade  sqft_above  sqft_basement  \\\n",
       "0      5650     1.0           0     0  ...      7      1180.0              0   \n",
       "1      7242     2.0           0     0  ...      7      2170.0            400   \n",
       "2     10000     1.0           0     0  ...      6       770.0              0   \n",
       "3      5000     1.0           0     0  ...      7      1050.0            910   \n",
       "4      8080     1.0           0     0  ...      8      1680.0              0   \n",
       "\n",
       "   yr_built  yr_renovated  zipcode      lat     long  sqft_living15  \\\n",
       "0      1955             0    98178  47.5112 -122.257           1340   \n",
       "1      1951          1991    98125  47.7210 -122.319           1690   \n",
       "2      1933             0    98028  47.7379 -122.233           2720   \n",
       "3      1965             0    98136  47.5208 -122.393           1360   \n",
       "4      1987             0    98074  47.6168 -122.045           1800   \n",
       "\n",
       "   sqft_lot15  \n",
       "0        5650  \n",
       "1        7639  \n",
       "2        8062  \n",
       "3        5000  \n",
       "4        7503  \n",
       "\n",
       "[5 rows x 21 columns]"
      ]
     },
     "execution_count": 2,
     "metadata": {},
     "output_type": "execute_result"
    }
   ],
   "source": [
    "df = pd.read_csv('kc_house_data.csv')\n",
    "df.head()"
   ]
  },
  {
   "cell_type": "code",
   "execution_count": 3,
   "id": "4461fd3c",
   "metadata": {},
   "outputs": [],
   "source": [
    "# hapus kolom id\n",
    "df.drop(['id','date','sqft_lot','view','condition','sqft_above','sqft_basement','yr_renovated','zipcode','lat','long','sqft_living15','sqft_lot15'],axis=1,inplace=True)\n",
    "# karena tidak diperlukan"
   ]
  },
  {
   "cell_type": "code",
   "execution_count": 4,
   "id": "61e44fb0",
   "metadata": {},
   "outputs": [
    {
     "name": "stdout",
     "output_type": "stream",
     "text": [
      "<class 'pandas.core.frame.DataFrame'>\n",
      "RangeIndex: 21613 entries, 0 to 21612\n",
      "Data columns (total 8 columns):\n",
      " #   Column       Non-Null Count  Dtype  \n",
      "---  ------       --------------  -----  \n",
      " 0   price        21613 non-null  float64\n",
      " 1   bedrooms     21613 non-null  int64  \n",
      " 2   bathrooms    21613 non-null  float64\n",
      " 3   sqft_living  21613 non-null  int64  \n",
      " 4   floors       21613 non-null  float64\n",
      " 5   waterfront   21613 non-null  int64  \n",
      " 6   grade        21613 non-null  int64  \n",
      " 7   yr_built     21613 non-null  int64  \n",
      "dtypes: float64(3), int64(5)\n",
      "memory usage: 1.3 MB\n"
     ]
    }
   ],
   "source": [
    "df.info()"
   ]
  },
  {
   "cell_type": "code",
   "execution_count": 5,
   "id": "fc6c7965",
   "metadata": {},
   "outputs": [
    {
     "data": {
      "text/html": [
       "<div>\n",
       "<style scoped>\n",
       "    .dataframe tbody tr th:only-of-type {\n",
       "        vertical-align: middle;\n",
       "    }\n",
       "\n",
       "    .dataframe tbody tr th {\n",
       "        vertical-align: top;\n",
       "    }\n",
       "\n",
       "    .dataframe thead th {\n",
       "        text-align: right;\n",
       "    }\n",
       "</style>\n",
       "<table border=\"1\" class=\"dataframe\">\n",
       "  <thead>\n",
       "    <tr style=\"text-align: right;\">\n",
       "      <th></th>\n",
       "      <th>price</th>\n",
       "      <th>bedrooms</th>\n",
       "      <th>bathrooms</th>\n",
       "      <th>sqft_living</th>\n",
       "      <th>grade</th>\n",
       "      <th>yr_built</th>\n",
       "    </tr>\n",
       "  </thead>\n",
       "  <tbody>\n",
       "    <tr>\n",
       "      <th>0</th>\n",
       "      <td>221900.0</td>\n",
       "      <td>3</td>\n",
       "      <td>1.00</td>\n",
       "      <td>1180</td>\n",
       "      <td>7</td>\n",
       "      <td>1955</td>\n",
       "    </tr>\n",
       "    <tr>\n",
       "      <th>1</th>\n",
       "      <td>538000.0</td>\n",
       "      <td>3</td>\n",
       "      <td>2.25</td>\n",
       "      <td>2570</td>\n",
       "      <td>7</td>\n",
       "      <td>1951</td>\n",
       "    </tr>\n",
       "    <tr>\n",
       "      <th>2</th>\n",
       "      <td>180000.0</td>\n",
       "      <td>2</td>\n",
       "      <td>1.00</td>\n",
       "      <td>770</td>\n",
       "      <td>6</td>\n",
       "      <td>1933</td>\n",
       "    </tr>\n",
       "    <tr>\n",
       "      <th>3</th>\n",
       "      <td>604000.0</td>\n",
       "      <td>4</td>\n",
       "      <td>3.00</td>\n",
       "      <td>1960</td>\n",
       "      <td>7</td>\n",
       "      <td>1965</td>\n",
       "    </tr>\n",
       "    <tr>\n",
       "      <th>4</th>\n",
       "      <td>510000.0</td>\n",
       "      <td>3</td>\n",
       "      <td>2.00</td>\n",
       "      <td>1680</td>\n",
       "      <td>8</td>\n",
       "      <td>1987</td>\n",
       "    </tr>\n",
       "  </tbody>\n",
       "</table>\n",
       "</div>"
      ],
      "text/plain": [
       "      price  bedrooms  bathrooms  sqft_living  grade  yr_built\n",
       "0  221900.0         3       1.00         1180      7      1955\n",
       "1  538000.0         3       2.25         2570      7      1951\n",
       "2  180000.0         2       1.00          770      6      1933\n",
       "3  604000.0         4       3.00         1960      7      1965\n",
       "4  510000.0         3       2.00         1680      8      1987"
      ]
     },
     "execution_count": 5,
     "metadata": {},
     "output_type": "execute_result"
    }
   ],
   "source": [
    "# hapus kolom id\n",
    "df.drop(['floors','waterfront'],axis=1,inplace=True)\n",
    "df.head()"
   ]
  },
  {
   "cell_type": "markdown",
   "id": "7f4e79e6",
   "metadata": {},
   "source": [
    "Penjelasan :\n",
    " - Price : harga rumah (US$)\n",
    " - bedrooms : jumlah kamar tidur\n",
    " - bathrooms : jumlah kamar mandi\n",
    " - sqft_living : luas rumah dalam satuan sqft\n",
    " - grade : grading system dari pemerintah king county US"
   ]
  },
  {
   "cell_type": "code",
   "execution_count": 6,
   "id": "ca9a652f",
   "metadata": {},
   "outputs": [
    {
     "name": "stdout",
     "output_type": "stream",
     "text": [
      "<class 'pandas.core.frame.DataFrame'>\n",
      "RangeIndex: 21613 entries, 0 to 21612\n",
      "Data columns (total 6 columns):\n",
      " #   Column       Non-Null Count  Dtype  \n",
      "---  ------       --------------  -----  \n",
      " 0   price        21613 non-null  float64\n",
      " 1   bedrooms     21613 non-null  int64  \n",
      " 2   bathrooms    21613 non-null  float64\n",
      " 3   sqft_living  21613 non-null  int64  \n",
      " 4   grade        21613 non-null  int64  \n",
      " 5   yr_built     21613 non-null  int64  \n",
      "dtypes: float64(2), int64(4)\n",
      "memory usage: 1013.2 KB\n"
     ]
    }
   ],
   "source": [
    "df.info()"
   ]
  },
  {
   "cell_type": "code",
   "execution_count": 7,
   "id": "c0161c15",
   "metadata": {},
   "outputs": [
    {
     "data": {
      "text/html": [
       "<div>\n",
       "<style scoped>\n",
       "    .dataframe tbody tr th:only-of-type {\n",
       "        vertical-align: middle;\n",
       "    }\n",
       "\n",
       "    .dataframe tbody tr th {\n",
       "        vertical-align: top;\n",
       "    }\n",
       "\n",
       "    .dataframe thead th {\n",
       "        text-align: right;\n",
       "    }\n",
       "</style>\n",
       "<table border=\"1\" class=\"dataframe\">\n",
       "  <thead>\n",
       "    <tr style=\"text-align: right;\">\n",
       "      <th></th>\n",
       "      <th>count</th>\n",
       "      <th>mean</th>\n",
       "      <th>std</th>\n",
       "      <th>min</th>\n",
       "      <th>25%</th>\n",
       "      <th>50%</th>\n",
       "      <th>75%</th>\n",
       "      <th>max</th>\n",
       "    </tr>\n",
       "  </thead>\n",
       "  <tbody>\n",
       "    <tr>\n",
       "      <th>price</th>\n",
       "      <td>21613.0</td>\n",
       "      <td>540088.141767</td>\n",
       "      <td>367127.196483</td>\n",
       "      <td>75000.0</td>\n",
       "      <td>321950.00</td>\n",
       "      <td>450000.00</td>\n",
       "      <td>645000.0</td>\n",
       "      <td>7700000.0</td>\n",
       "    </tr>\n",
       "    <tr>\n",
       "      <th>bedrooms</th>\n",
       "      <td>21613.0</td>\n",
       "      <td>3.370842</td>\n",
       "      <td>0.930062</td>\n",
       "      <td>0.0</td>\n",
       "      <td>3.00</td>\n",
       "      <td>3.00</td>\n",
       "      <td>4.0</td>\n",
       "      <td>33.0</td>\n",
       "    </tr>\n",
       "    <tr>\n",
       "      <th>bathrooms</th>\n",
       "      <td>21613.0</td>\n",
       "      <td>2.114757</td>\n",
       "      <td>0.770163</td>\n",
       "      <td>0.0</td>\n",
       "      <td>1.75</td>\n",
       "      <td>2.25</td>\n",
       "      <td>2.5</td>\n",
       "      <td>8.0</td>\n",
       "    </tr>\n",
       "    <tr>\n",
       "      <th>sqft_living</th>\n",
       "      <td>21613.0</td>\n",
       "      <td>2079.899736</td>\n",
       "      <td>918.440897</td>\n",
       "      <td>290.0</td>\n",
       "      <td>1427.00</td>\n",
       "      <td>1910.00</td>\n",
       "      <td>2550.0</td>\n",
       "      <td>13540.0</td>\n",
       "    </tr>\n",
       "    <tr>\n",
       "      <th>grade</th>\n",
       "      <td>21613.0</td>\n",
       "      <td>7.656873</td>\n",
       "      <td>1.175459</td>\n",
       "      <td>1.0</td>\n",
       "      <td>7.00</td>\n",
       "      <td>7.00</td>\n",
       "      <td>8.0</td>\n",
       "      <td>13.0</td>\n",
       "    </tr>\n",
       "    <tr>\n",
       "      <th>yr_built</th>\n",
       "      <td>21613.0</td>\n",
       "      <td>1971.005136</td>\n",
       "      <td>29.373411</td>\n",
       "      <td>1900.0</td>\n",
       "      <td>1951.00</td>\n",
       "      <td>1975.00</td>\n",
       "      <td>1997.0</td>\n",
       "      <td>2015.0</td>\n",
       "    </tr>\n",
       "  </tbody>\n",
       "</table>\n",
       "</div>"
      ],
      "text/plain": [
       "               count           mean            std      min        25%  \\\n",
       "price        21613.0  540088.141767  367127.196483  75000.0  321950.00   \n",
       "bedrooms     21613.0       3.370842       0.930062      0.0       3.00   \n",
       "bathrooms    21613.0       2.114757       0.770163      0.0       1.75   \n",
       "sqft_living  21613.0    2079.899736     918.440897    290.0    1427.00   \n",
       "grade        21613.0       7.656873       1.175459      1.0       7.00   \n",
       "yr_built     21613.0    1971.005136      29.373411   1900.0    1951.00   \n",
       "\n",
       "                   50%       75%        max  \n",
       "price        450000.00  645000.0  7700000.0  \n",
       "bedrooms          3.00       4.0       33.0  \n",
       "bathrooms         2.25       2.5        8.0  \n",
       "sqft_living    1910.00    2550.0    13540.0  \n",
       "grade             7.00       8.0       13.0  \n",
       "yr_built       1975.00    1997.0     2015.0  "
      ]
     },
     "execution_count": 7,
     "metadata": {},
     "output_type": "execute_result"
    }
   ],
   "source": [
    "df.describe().T"
   ]
  },
  {
   "cell_type": "markdown",
   "id": "00f9ecc5",
   "metadata": {},
   "source": [
    "- Pada feature bathrooms terdapat nilai pecahan, maka ubah dulu jenisdatanya ke int\n",
    "- pada feature bedrooms terdapat nilai33, jadi kemungkinan itu typo dan akan diganti 3"
   ]
  },
  {
   "cell_type": "code",
   "execution_count": 8,
   "id": "9200fb1c",
   "metadata": {},
   "outputs": [],
   "source": [
    "# ubah tipe data dari bathrooms yg semula float ke int\n",
    "df['bathrooms'] = df['bathrooms'].astype('int')"
   ]
  },
  {
   "cell_type": "code",
   "execution_count": 9,
   "id": "fb068dfd",
   "metadata": {},
   "outputs": [],
   "source": [
    "# ganti nilai 33 menjadi 3\n",
    "df['bedrooms'] = df['bedrooms'].replace(33,3)"
   ]
  },
  {
   "cell_type": "code",
   "execution_count": 10,
   "id": "8c23d541",
   "metadata": {},
   "outputs": [
    {
     "name": "stdout",
     "output_type": "stream",
     "text": [
      "<class 'pandas.core.frame.DataFrame'>\n",
      "RangeIndex: 21613 entries, 0 to 21612\n",
      "Data columns (total 6 columns):\n",
      " #   Column       Non-Null Count  Dtype  \n",
      "---  ------       --------------  -----  \n",
      " 0   price        21613 non-null  float64\n",
      " 1   bedrooms     21613 non-null  int64  \n",
      " 2   bathrooms    21613 non-null  int32  \n",
      " 3   sqft_living  21613 non-null  int64  \n",
      " 4   grade        21613 non-null  int64  \n",
      " 5   yr_built     21613 non-null  int64  \n",
      "dtypes: float64(1), int32(1), int64(4)\n",
      "memory usage: 928.8 KB\n"
     ]
    }
   ],
   "source": [
    "df.info()"
   ]
  },
  {
   "cell_type": "markdown",
   "id": "97ffe8d1",
   "metadata": {},
   "source": [
    "# Handing NA"
   ]
  },
  {
   "cell_type": "code",
   "execution_count": 11,
   "id": "38735816",
   "metadata": {},
   "outputs": [
    {
     "data": {
      "text/plain": [
       "price          0\n",
       "bedrooms       0\n",
       "bathrooms      0\n",
       "sqft_living    0\n",
       "grade          0\n",
       "yr_built       0\n",
       "dtype: int64"
      ]
     },
     "execution_count": 11,
     "metadata": {},
     "output_type": "execute_result"
    }
   ],
   "source": [
    "df.isna().sum()"
   ]
  },
  {
   "cell_type": "markdown",
   "id": "8a100ddd",
   "metadata": {},
   "source": [
    "# EDA"
   ]
  },
  {
   "cell_type": "code",
   "execution_count": 12,
   "id": "b92523ea",
   "metadata": {},
   "outputs": [
    {
     "data": {
      "text/html": [
       "<div>\n",
       "<style scoped>\n",
       "    .dataframe tbody tr th:only-of-type {\n",
       "        vertical-align: middle;\n",
       "    }\n",
       "\n",
       "    .dataframe tbody tr th {\n",
       "        vertical-align: top;\n",
       "    }\n",
       "\n",
       "    .dataframe thead th {\n",
       "        text-align: right;\n",
       "    }\n",
       "</style>\n",
       "<table border=\"1\" class=\"dataframe\">\n",
       "  <thead>\n",
       "    <tr style=\"text-align: right;\">\n",
       "      <th></th>\n",
       "      <th>price</th>\n",
       "      <th>bedrooms</th>\n",
       "      <th>bathrooms</th>\n",
       "      <th>sqft_living</th>\n",
       "      <th>grade</th>\n",
       "      <th>yr_built</th>\n",
       "    </tr>\n",
       "  </thead>\n",
       "  <tbody>\n",
       "    <tr>\n",
       "      <th>0</th>\n",
       "      <td>221900.0</td>\n",
       "      <td>3</td>\n",
       "      <td>1</td>\n",
       "      <td>1180</td>\n",
       "      <td>7</td>\n",
       "      <td>1955</td>\n",
       "    </tr>\n",
       "    <tr>\n",
       "      <th>1</th>\n",
       "      <td>538000.0</td>\n",
       "      <td>3</td>\n",
       "      <td>2</td>\n",
       "      <td>2570</td>\n",
       "      <td>7</td>\n",
       "      <td>1951</td>\n",
       "    </tr>\n",
       "    <tr>\n",
       "      <th>2</th>\n",
       "      <td>180000.0</td>\n",
       "      <td>2</td>\n",
       "      <td>1</td>\n",
       "      <td>770</td>\n",
       "      <td>6</td>\n",
       "      <td>1933</td>\n",
       "    </tr>\n",
       "    <tr>\n",
       "      <th>3</th>\n",
       "      <td>604000.0</td>\n",
       "      <td>4</td>\n",
       "      <td>3</td>\n",
       "      <td>1960</td>\n",
       "      <td>7</td>\n",
       "      <td>1965</td>\n",
       "    </tr>\n",
       "    <tr>\n",
       "      <th>4</th>\n",
       "      <td>510000.0</td>\n",
       "      <td>3</td>\n",
       "      <td>2</td>\n",
       "      <td>1680</td>\n",
       "      <td>8</td>\n",
       "      <td>1987</td>\n",
       "    </tr>\n",
       "  </tbody>\n",
       "</table>\n",
       "</div>"
      ],
      "text/plain": [
       "      price  bedrooms  bathrooms  sqft_living  grade  yr_built\n",
       "0  221900.0         3          1         1180      7      1955\n",
       "1  538000.0         3          2         2570      7      1951\n",
       "2  180000.0         2          1          770      6      1933\n",
       "3  604000.0         4          3         1960      7      1965\n",
       "4  510000.0         3          2         1680      8      1987"
      ]
     },
     "execution_count": 12,
     "metadata": {},
     "output_type": "execute_result"
    }
   ],
   "source": [
    "df.head()"
   ]
  },
  {
   "cell_type": "code",
   "execution_count": 13,
   "id": "cb4734c9",
   "metadata": {},
   "outputs": [
    {
     "data": {
      "image/png": "[encoded data removed]",
      "text/plain": [
       "<Figure size 864x288 with 2 Axes>"
      ]
     },
     "metadata": {
      "needs_background": "light"
     },
     "output_type": "display_data"
    }
   ],
   "source": [
    "# analisis univariate bedrooms\n",
    "# distribusi bedrooms\n",
    "f = plt.figure(figsize=(12,4))\n",
    "\n",
    "f.add_subplot(1,2,1)\n",
    "sns.countplot(df['bedrooms'])\n",
    "\n",
    "f.add_subplot(1,2,2)\n",
    "sns.boxplot(df['bedrooms'])\n",
    "plt.show()"
   ]
  },
  {
   "cell_type": "markdown",
   "id": "bcce7a50",
   "metadata": {},
   "source": [
    "- Sebagian besar jumlah kamar tidur di angka 3 dan 4\n",
    "- banyak outliers"
   ]
  },
  {
   "cell_type": "code",
   "execution_count": 14,
   "id": "efbcb20a",
   "metadata": {},
   "outputs": [
    {
     "data": {
      "image/png": "[encoded data removed]",
      "text/plain": [
       "<Figure size 864x288 with 2 Axes>"
      ]
     },
     "metadata": {
      "needs_background": "light"
     },
     "output_type": "display_data"
    }
   ],
   "source": [
    "# analisis univariate bathrooms\n",
    "# distribusi bathrooms\n",
    "f = plt.figure(figsize=(12,4))\n",
    "\n",
    "f.add_subplot(1,2,1)\n",
    "sns.countplot(df['bathrooms'])\n",
    "\n",
    "f.add_subplot(1,2,2)\n",
    "sns.boxplot(df['bathrooms'])\n",
    "plt.show()"
   ]
  },
  {
   "cell_type": "markdown",
   "id": "6942ecc2",
   "metadata": {},
   "source": [
    "- Jumlah kmar mandi paling banyak berada pada angka 1 dan 2\n",
    "- Ternyata ada rumah yg tidak ada kamar mandinya \n",
    "- Outliers lumayan banyak"
   ]
  },
  {
   "cell_type": "code",
   "execution_count": 15,
   "id": "eb80a400",
   "metadata": {},
   "outputs": [
    {
     "data": {
      "image/png": "[encoded data removed]",
      "text/plain": [
       "<Figure size 864x288 with 2 Axes>"
      ]
     },
     "metadata": {
      "needs_background": "light"
     },
     "output_type": "display_data"
    }
   ],
   "source": [
    "# analisis univariate sqft_living\n",
    "# distribusi sqft_living\n",
    "f = plt.figure(figsize=(12,4))\n",
    "\n",
    "f.add_subplot(1,2,1)\n",
    "df['sqft_living'].plot(kind='kde')\n",
    "\n",
    "f.add_subplot(1,2,2)\n",
    "sns.boxplot(df['sqft_living'])\n",
    "plt.show()"
   ]
  },
  {
   "cell_type": "markdown",
   "id": "34e035cd",
   "metadata": {},
   "source": [
    "- density dan distribusi luas rumah berada di sekitar angka 2000an\n",
    "- outliers banyak juga"
   ]
  },
  {
   "cell_type": "code",
   "execution_count": 16,
   "id": "c3d11045",
   "metadata": {},
   "outputs": [
    {
     "data": {
      "image/png": "[encoded data removed]",
      "text/plain": [
       "<Figure size 864x288 with 2 Axes>"
      ]
     },
     "metadata": {
      "needs_background": "light"
     },
     "output_type": "display_data"
    }
   ],
   "source": [
    "# analisis univariate grade\n",
    "# distribusi grade\n",
    "f = plt.figure(figsize=(12,4))\n",
    "\n",
    "f.add_subplot(1,2,1)\n",
    "sns.countplot(df['grade'])\n",
    "\n",
    "f.add_subplot(1,2,2)\n",
    "sns.boxplot(df['grade'])\n",
    "plt.show()"
   ]
  },
  {
   "cell_type": "markdown",
   "id": "3459fd56",
   "metadata": {},
   "source": [
    "- Sebagian besar rumah di County King US memiliki grade 7 dan 8\n",
    "- Dilihat dari boxplot data memiliki beberapa outliers"
   ]
  },
  {
   "cell_type": "code",
   "execution_count": 17,
   "id": "5ee42264",
   "metadata": {},
   "outputs": [
    {
     "data": {
      "image/png": "[encoded data removed]",
      "text/plain": [
       "<Figure size 864x288 with 2 Axes>"
      ]
     },
     "metadata": {
      "needs_background": "light"
     },
     "output_type": "display_data"
    }
   ],
   "source": [
    "# analisis univariate yr_built\n",
    "# distribusi grade\n",
    "f = plt.figure(figsize=(12,4))\n",
    "\n",
    "f.add_subplot(1,2,1)\n",
    "sns.countplot(df['yr_built'])\n",
    "\n",
    "f.add_subplot(1,2,2)\n",
    "sns.boxplot(df['yr_built'])\n",
    "plt.show()"
   ]
  },
  {
   "cell_type": "markdown",
   "id": "e0974c7b",
   "metadata": {},
   "source": [
    "- Semakin tua umur rumah maka semakin sedikit orang yg menjual rumah tsb\n",
    "- density terdapat disekitar tahun 1980an\n",
    "- tidak ada outliers"
   ]
  },
  {
   "cell_type": "code",
   "execution_count": 18,
   "id": "ca39256c",
   "metadata": {},
   "outputs": [
    {
     "data": {
      "text/plain": [
       "<Figure size 720x576 with 0 Axes>"
      ]
     },
     "metadata": {},
     "output_type": "display_data"
    },
    {
     "data": {
      "image/png": "[encoded data removed]",
      "text/plain": [
       "<Figure size 1350x360 with 5 Axes>"
      ]
     },
     "metadata": {
      "needs_background": "light"
     },
     "output_type": "display_data"
    }
   ],
   "source": [
    "# Analisis bivariate antara independent variable dan dependent variable\n",
    "# hubungan antar independetn-dependent\n",
    "plt.figure(figsize=(10,8))\n",
    "sns.pairplot(data=df, x_vars=['bedrooms','bathrooms','sqft_living','grade','yr_built'], y_vars=['price'],\n",
    "            size=5, aspect=0.75)\n",
    "plt.show()"
   ]
  },
  {
   "cell_type": "markdown",
   "id": "8234709c",
   "metadata": {},
   "source": [
    "Hubungan bermacam-macam, ada yg tidak mempunyai korelasi ada yg punya korelasi positif. Yg paling kuat sqft_living"
   ]
  },
  {
   "cell_type": "code",
   "execution_count": 19,
   "id": "b9e77242",
   "metadata": {},
   "outputs": [
    {
     "data": {
      "text/html": [
       "<div>\n",
       "<style scoped>\n",
       "    .dataframe tbody tr th:only-of-type {\n",
       "        vertical-align: middle;\n",
       "    }\n",
       "\n",
       "    .dataframe tbody tr th {\n",
       "        vertical-align: top;\n",
       "    }\n",
       "\n",
       "    .dataframe thead th {\n",
       "        text-align: right;\n",
       "    }\n",
       "</style>\n",
       "<table border=\"1\" class=\"dataframe\">\n",
       "  <thead>\n",
       "    <tr style=\"text-align: right;\">\n",
       "      <th></th>\n",
       "      <th>price</th>\n",
       "      <th>bedrooms</th>\n",
       "      <th>bathrooms</th>\n",
       "      <th>sqft_living</th>\n",
       "      <th>grade</th>\n",
       "      <th>yr_built</th>\n",
       "    </tr>\n",
       "  </thead>\n",
       "  <tbody>\n",
       "    <tr>\n",
       "      <th>price</th>\n",
       "      <td>1.000000</td>\n",
       "      <td>0.315438</td>\n",
       "      <td>0.510072</td>\n",
       "      <td>0.702035</td>\n",
       "      <td>0.667434</td>\n",
       "      <td>0.054012</td>\n",
       "    </tr>\n",
       "    <tr>\n",
       "      <th>bedrooms</th>\n",
       "      <td>0.315438</td>\n",
       "      <td>1.000000</td>\n",
       "      <td>0.480389</td>\n",
       "      <td>0.591471</td>\n",
       "      <td>0.366509</td>\n",
       "      <td>0.159180</td>\n",
       "    </tr>\n",
       "    <tr>\n",
       "      <th>bathrooms</th>\n",
       "      <td>0.510072</td>\n",
       "      <td>0.480389</td>\n",
       "      <td>1.000000</td>\n",
       "      <td>0.697875</td>\n",
       "      <td>0.606631</td>\n",
       "      <td>0.433647</td>\n",
       "    </tr>\n",
       "    <tr>\n",
       "      <th>sqft_living</th>\n",
       "      <td>0.702035</td>\n",
       "      <td>0.591471</td>\n",
       "      <td>0.697875</td>\n",
       "      <td>1.000000</td>\n",
       "      <td>0.762704</td>\n",
       "      <td>0.318049</td>\n",
       "    </tr>\n",
       "    <tr>\n",
       "      <th>grade</th>\n",
       "      <td>0.667434</td>\n",
       "      <td>0.366509</td>\n",
       "      <td>0.606631</td>\n",
       "      <td>0.762704</td>\n",
       "      <td>1.000000</td>\n",
       "      <td>0.446963</td>\n",
       "    </tr>\n",
       "    <tr>\n",
       "      <th>yr_built</th>\n",
       "      <td>0.054012</td>\n",
       "      <td>0.159180</td>\n",
       "      <td>0.433647</td>\n",
       "      <td>0.318049</td>\n",
       "      <td>0.446963</td>\n",
       "      <td>1.000000</td>\n",
       "    </tr>\n",
       "  </tbody>\n",
       "</table>\n",
       "</div>"
      ],
      "text/plain": [
       "                price  bedrooms  bathrooms  sqft_living     grade  yr_built\n",
       "price        1.000000  0.315438   0.510072     0.702035  0.667434  0.054012\n",
       "bedrooms     0.315438  1.000000   0.480389     0.591471  0.366509  0.159180\n",
       "bathrooms    0.510072  0.480389   1.000000     0.697875  0.606631  0.433647\n",
       "sqft_living  0.702035  0.591471   0.697875     1.000000  0.762704  0.318049\n",
       "grade        0.667434  0.366509   0.606631     0.762704  1.000000  0.446963\n",
       "yr_built     0.054012  0.159180   0.433647     0.318049  0.446963  1.000000"
      ]
     },
     "execution_count": 19,
     "metadata": {},
     "output_type": "execute_result"
    }
   ],
   "source": [
    "# Mengetahui nilai korelasi dari independent variable dan dependent variable\n",
    "df.corr()"
   ]
  },
  {
   "cell_type": "markdown",
   "id": "bda6ab77",
   "metadata": {},
   "source": [
    "- Dari tabel diatas dapat dilihat bahwa sqft_living mempunyai hubungan linear positif yg kuat dg price\n",
    "- Nilai korelasi yr_built hampir mendekati 0 yg menandakan bahwa usia rumah tidak berpengaruh pada harga"
   ]
  },
  {
   "cell_type": "markdown",
   "id": "e144b460",
   "metadata": {},
   "source": [
    "# Modelling"
   ]
  },
  {
   "cell_type": "code",
   "execution_count": 20,
   "id": "ca31a23b",
   "metadata": {},
   "outputs": [
    {
     "data": {
      "text/html": [
       "<div>\n",
       "<style scoped>\n",
       "    .dataframe tbody tr th:only-of-type {\n",
       "        vertical-align: middle;\n",
       "    }\n",
       "\n",
       "    .dataframe tbody tr th {\n",
       "        vertical-align: top;\n",
       "    }\n",
       "\n",
       "    .dataframe thead th {\n",
       "        text-align: right;\n",
       "    }\n",
       "</style>\n",
       "<table border=\"1\" class=\"dataframe\">\n",
       "  <thead>\n",
       "    <tr style=\"text-align: right;\">\n",
       "      <th></th>\n",
       "      <th>price</th>\n",
       "      <th>bedrooms</th>\n",
       "      <th>bathrooms</th>\n",
       "      <th>sqft_living</th>\n",
       "      <th>grade</th>\n",
       "      <th>yr_built</th>\n",
       "    </tr>\n",
       "  </thead>\n",
       "  <tbody>\n",
       "    <tr>\n",
       "      <th>0</th>\n",
       "      <td>221900.0</td>\n",
       "      <td>3</td>\n",
       "      <td>1</td>\n",
       "      <td>1180</td>\n",
       "      <td>7</td>\n",
       "      <td>1955</td>\n",
       "    </tr>\n",
       "    <tr>\n",
       "      <th>1</th>\n",
       "      <td>538000.0</td>\n",
       "      <td>3</td>\n",
       "      <td>2</td>\n",
       "      <td>2570</td>\n",
       "      <td>7</td>\n",
       "      <td>1951</td>\n",
       "    </tr>\n",
       "    <tr>\n",
       "      <th>2</th>\n",
       "      <td>180000.0</td>\n",
       "      <td>2</td>\n",
       "      <td>1</td>\n",
       "      <td>770</td>\n",
       "      <td>6</td>\n",
       "      <td>1933</td>\n",
       "    </tr>\n",
       "    <tr>\n",
       "      <th>3</th>\n",
       "      <td>604000.0</td>\n",
       "      <td>4</td>\n",
       "      <td>3</td>\n",
       "      <td>1960</td>\n",
       "      <td>7</td>\n",
       "      <td>1965</td>\n",
       "    </tr>\n",
       "    <tr>\n",
       "      <th>4</th>\n",
       "      <td>510000.0</td>\n",
       "      <td>3</td>\n",
       "      <td>2</td>\n",
       "      <td>1680</td>\n",
       "      <td>8</td>\n",
       "      <td>1987</td>\n",
       "    </tr>\n",
       "  </tbody>\n",
       "</table>\n",
       "</div>"
      ],
      "text/plain": [
       "      price  bedrooms  bathrooms  sqft_living  grade  yr_built\n",
       "0  221900.0         3          1         1180      7      1955\n",
       "1  538000.0         3          2         2570      7      1951\n",
       "2  180000.0         2          1          770      6      1933\n",
       "3  604000.0         4          3         1960      7      1965\n",
       "4  510000.0         3          2         1680      8      1987"
      ]
     },
     "execution_count": 20,
     "metadata": {},
     "output_type": "execute_result"
    }
   ],
   "source": [
    "df.head()"
   ]
  },
  {
   "cell_type": "code",
   "execution_count": 21,
   "id": "96fee17a",
   "metadata": {},
   "outputs": [],
   "source": [
    "# Pertama, buat variabel x dan y\n",
    "X = df.drop(columns='price')\n",
    "y = df['price']"
   ]
  },
  {
   "cell_type": "code",
   "execution_count": 22,
   "id": "87e49712",
   "metadata": {},
   "outputs": [],
   "source": [
    "from sklearn.linear_model import LinearRegression\n",
    "from sklearn.model_selection import train_test_split"
   ]
  },
  {
   "cell_type": "code",
   "execution_count": 23,
   "id": "c8ef0138",
   "metadata": {},
   "outputs": [],
   "source": [
    "# Kedua, split data menjadi training dan testing dg porsi 80/20\n",
    "X_train,X_test,y_train,y_test = train_test_split(X, y, test_size=0.2, random_state=4)"
   ]
  },
  {
   "cell_type": "code",
   "execution_count": 24,
   "id": "34e55f99",
   "metadata": {},
   "outputs": [
    {
     "name": "stdout",
     "output_type": "stream",
     "text": [
      "(17290, 5)\n",
      "(4323, 5)\n",
      "(17290,)\n",
      "(4323,)\n"
     ]
    }
   ],
   "source": [
    "## cek bentuk data\n",
    "print(X_train.shape)\n",
    "print(X_test.shape)\n",
    "print(y_train.shape)\n",
    "print(y_test.shape)"
   ]
  },
  {
   "cell_type": "code",
   "execution_count": 25,
   "id": "5001678e",
   "metadata": {},
   "outputs": [],
   "source": [
    "# Ketiga, bikin objek linear regresi\n",
    "lin_reg = LinearRegression()"
   ]
  },
  {
   "cell_type": "code",
   "execution_count": 26,
   "id": "281801e2",
   "metadata": {},
   "outputs": [
    {
     "data": {
      "text/plain": [
       "LinearRegression()"
      ]
     },
     "execution_count": 26,
     "metadata": {},
     "output_type": "execute_result"
    }
   ],
   "source": [
    "# Keempat, train model menggunakan training data yg udah displit\n",
    "lin_reg.fit(X_train,y_train)"
   ]
  },
  {
   "cell_type": "code",
   "execution_count": 27,
   "id": "757e6f1a",
   "metadata": {},
   "outputs": [
    {
     "name": "stdout",
     "output_type": "stream",
     "text": [
      "[-53061.75464279  64658.55790616    188.90926343 131290.89536823\n",
      "  -3969.55831454]\n",
      "7031568.245717709\n"
     ]
    }
   ],
   "source": [
    "# Kelima, cari tahu nilai koefisien(m) dan intercept (b)\n",
    "print(lin_reg.coef_)\n",
    "print(lin_reg.intercept_)"
   ]
  },
  {
   "cell_type": "code",
   "execution_count": 28,
   "id": "e63cf96a",
   "metadata": {},
   "outputs": [
    {
     "data": {
      "text/html": [
       "<div>\n",
       "<style scoped>\n",
       "    .dataframe tbody tr th:only-of-type {\n",
       "        vertical-align: middle;\n",
       "    }\n",
       "\n",
       "    .dataframe tbody tr th {\n",
       "        vertical-align: top;\n",
       "    }\n",
       "\n",
       "    .dataframe thead th {\n",
       "        text-align: right;\n",
       "    }\n",
       "</style>\n",
       "<table border=\"1\" class=\"dataframe\">\n",
       "  <thead>\n",
       "    <tr style=\"text-align: right;\">\n",
       "      <th></th>\n",
       "      <th>features</th>\n",
       "      <th>coef_value</th>\n",
       "    </tr>\n",
       "  </thead>\n",
       "  <tbody>\n",
       "    <tr>\n",
       "      <th>0</th>\n",
       "      <td>bedrooms</td>\n",
       "      <td>-53061.754643</td>\n",
       "    </tr>\n",
       "    <tr>\n",
       "      <th>1</th>\n",
       "      <td>bathrooms</td>\n",
       "      <td>64658.557906</td>\n",
       "    </tr>\n",
       "    <tr>\n",
       "      <th>2</th>\n",
       "      <td>sqft_living</td>\n",
       "      <td>188.909263</td>\n",
       "    </tr>\n",
       "    <tr>\n",
       "      <th>3</th>\n",
       "      <td>grade</td>\n",
       "      <td>131290.895368</td>\n",
       "    </tr>\n",
       "    <tr>\n",
       "      <th>4</th>\n",
       "      <td>yr_built</td>\n",
       "      <td>-3969.558315</td>\n",
       "    </tr>\n",
       "  </tbody>\n",
       "</table>\n",
       "</div>"
      ],
      "text/plain": [
       "      features     coef_value\n",
       "0     bedrooms  -53061.754643\n",
       "1    bathrooms   64658.557906\n",
       "2  sqft_living     188.909263\n",
       "3        grade  131290.895368\n",
       "4     yr_built   -3969.558315"
      ]
     },
     "execution_count": 28,
     "metadata": {},
     "output_type": "execute_result"
    }
   ],
   "source": [
    "# Buat kolom dataframe agar lebih rapih\n",
    "coef_dict={\n",
    "    'features' : X.columns,\n",
    "    'coef_value' : lin_reg.coef_\n",
    "}\n",
    "coef = pd.DataFrame(coef_dict, columns=['features','coef_value'])\n",
    "coef"
   ]
  },
  {
   "cell_type": "markdown",
   "id": "655915f0",
   "metadata": {},
   "source": [
    "Nilai m dan b diatas kalau dimasukan ke dalam rumus menjadi\n",
    "- Y = -53061.754643x1 + 188.909263x2 + 188.909263x3 + 131290.895368x4 - 3969.558315 + 7031568.245717709"
   ]
  },
  {
   "cell_type": "code",
   "execution_count": 78,
   "id": "84dfa224",
   "metadata": {},
   "outputs": [],
   "source": [
    "from sklearn.linear_model import LinearRegression"
   ]
  },
  {
   "cell_type": "code",
   "execution_count": 79,
   "id": "6c55af36",
   "metadata": {},
   "outputs": [],
   "source": [
    "Model = LinearRegression(fit_intercept=True)"
   ]
  },
  {
   "cell_type": "code",
   "execution_count": 80,
   "id": "e7c81b18",
   "metadata": {},
   "outputs": [
    {
     "data": {
      "text/plain": [
       "LinearRegression()"
      ]
     },
     "execution_count": 80,
     "metadata": {},
     "output_type": "execute_result"
    }
   ],
   "source": [
    "Model.fit(X_train,y_train)"
   ]
  },
  {
   "cell_type": "markdown",
   "id": "c780da49",
   "metadata": {},
   "source": [
    "Quick Evaluation Matrix"
   ]
  },
  {
   "cell_type": "code",
   "execution_count": 81,
   "id": "493329a8",
   "metadata": {},
   "outputs": [
    {
     "data": {
      "text/plain": [
       "0.6188434181757463"
      ]
     },
     "execution_count": 81,
     "metadata": {},
     "output_type": "execute_result"
    }
   ],
   "source": [
    "Model.score(X_train,y_train)\n",
    "# melakukan penilaian/evaluation matrix train set"
   ]
  },
  {
   "cell_type": "code",
   "execution_count": 82,
   "id": "996b32bb",
   "metadata": {},
   "outputs": [
    {
     "data": {
      "text/plain": [
       "0.6125113286941102"
      ]
     },
     "execution_count": 82,
     "metadata": {},
     "output_type": "execute_result"
    }
   ],
   "source": [
    "Model.score(X_test,y_test)\n",
    "# melakukan penilaian/evaluation matrix test set"
   ]
  },
  {
   "cell_type": "code",
   "execution_count": 83,
   "id": "b2e9498a",
   "metadata": {},
   "outputs": [
    {
     "data": {
      "text/plain": [
       "array([509573.84808814, 543888.1872912 , 217272.08475749, ...,\n",
       "       583584.19609742, 375917.86658614, 551983.18860655])"
      ]
     },
     "execution_count": 83,
     "metadata": {},
     "output_type": "execute_result"
    }
   ],
   "source": [
    "Model.predict(X_train)\n",
    "# melakukan try out"
   ]
  },
  {
   "cell_type": "code",
   "execution_count": 84,
   "id": "a763fb82",
   "metadata": {},
   "outputs": [
    {
     "data": {
      "text/plain": [
       "array([422234.55380128, 554217.45353965, 295235.93896271, ...,\n",
       "       286911.88850071, 672256.70374056, 738396.97036445])"
      ]
     },
     "execution_count": 84,
     "metadata": {},
     "output_type": "execute_result"
    }
   ],
   "source": [
    "Model.predict(X_test)\n",
    "# menjawab ujian seusngguhnya"
   ]
  },
  {
   "cell_type": "code",
   "execution_count": 85,
   "id": "3051b597",
   "metadata": {},
   "outputs": [
    {
     "data": {
      "text/plain": [
       "7031568.245717709"
      ]
     },
     "execution_count": 85,
     "metadata": {},
     "output_type": "execute_result"
    }
   ],
   "source": [
    "Model.intercept_"
   ]
  },
  {
   "cell_type": "code",
   "execution_count": 86,
   "id": "85f34e7d",
   "metadata": {},
   "outputs": [
    {
     "data": {
      "text/plain": [
       "array([-53061.75464279,  64658.55790616,    188.90926343, 131290.89536823,\n",
       "        -3969.55831454])"
      ]
     },
     "execution_count": 86,
     "metadata": {},
     "output_type": "execute_result"
    }
   ],
   "source": [
    "Model.coef_"
   ]
  },
  {
   "cell_type": "code",
   "execution_count": 87,
   "id": "de414b20",
   "metadata": {},
   "outputs": [
    {
     "data": {
      "text/plain": [
       "Index(['bedrooms', 'bathrooms', 'sqft_living', 'grade', 'yr_built'], dtype='object')"
      ]
     },
     "execution_count": 87,
     "metadata": {},
     "output_type": "execute_result"
    }
   ],
   "source": [
    "X_train.columns"
   ]
  },
  {
   "cell_type": "code",
   "execution_count": 88,
   "id": "ed8faa9d",
   "metadata": {},
   "outputs": [
    {
     "data": {
      "text/html": [
       "<div>\n",
       "<style scoped>\n",
       "    .dataframe tbody tr th:only-of-type {\n",
       "        vertical-align: middle;\n",
       "    }\n",
       "\n",
       "    .dataframe tbody tr th {\n",
       "        vertical-align: top;\n",
       "    }\n",
       "\n",
       "    .dataframe thead th {\n",
       "        text-align: right;\n",
       "    }\n",
       "</style>\n",
       "<table border=\"1\" class=\"dataframe\">\n",
       "  <thead>\n",
       "    <tr style=\"text-align: right;\">\n",
       "      <th></th>\n",
       "      <th>coef</th>\n",
       "    </tr>\n",
       "  </thead>\n",
       "  <tbody>\n",
       "    <tr>\n",
       "      <th>bedrooms</th>\n",
       "      <td>-53061.754643</td>\n",
       "    </tr>\n",
       "    <tr>\n",
       "      <th>bathrooms</th>\n",
       "      <td>64658.557906</td>\n",
       "    </tr>\n",
       "    <tr>\n",
       "      <th>sqft_living</th>\n",
       "      <td>188.909263</td>\n",
       "    </tr>\n",
       "    <tr>\n",
       "      <th>grade</th>\n",
       "      <td>131290.895368</td>\n",
       "    </tr>\n",
       "    <tr>\n",
       "      <th>yr_built</th>\n",
       "      <td>-3969.558315</td>\n",
       "    </tr>\n",
       "  </tbody>\n",
       "</table>\n",
       "</div>"
      ],
      "text/plain": [
       "                      coef\n",
       "bedrooms     -53061.754643\n",
       "bathrooms     64658.557906\n",
       "sqft_living     188.909263\n",
       "grade        131290.895368\n",
       "yr_built      -3969.558315"
      ]
     },
     "execution_count": 88,
     "metadata": {},
     "output_type": "execute_result"
    }
   ],
   "source": [
    "pd.DataFrame(data = Model.coef_, index=X_train.columns,columns=['coef'])"
   ]
  },
  {
   "cell_type": "code",
   "execution_count": 89,
   "id": "84f29d03",
   "metadata": {},
   "outputs": [
    {
     "data": {
      "text/html": [
       "<div>\n",
       "<style scoped>\n",
       "    .dataframe tbody tr th:only-of-type {\n",
       "        vertical-align: middle;\n",
       "    }\n",
       "\n",
       "    .dataframe tbody tr th {\n",
       "        vertical-align: top;\n",
       "    }\n",
       "\n",
       "    .dataframe thead th {\n",
       "        text-align: right;\n",
       "    }\n",
       "</style>\n",
       "<table border=\"1\" class=\"dataframe\">\n",
       "  <thead>\n",
       "    <tr style=\"text-align: right;\">\n",
       "      <th></th>\n",
       "      <th>bedrooms</th>\n",
       "      <th>bathrooms</th>\n",
       "      <th>sqft_living</th>\n",
       "      <th>grade</th>\n",
       "      <th>yr_built</th>\n",
       "    </tr>\n",
       "  </thead>\n",
       "  <tbody>\n",
       "    <tr>\n",
       "      <th>8583</th>\n",
       "      <td>2</td>\n",
       "      <td>1</td>\n",
       "      <td>1930</td>\n",
       "      <td>8</td>\n",
       "      <td>1989</td>\n",
       "    </tr>\n",
       "    <tr>\n",
       "      <th>19257</th>\n",
       "      <td>5</td>\n",
       "      <td>2</td>\n",
       "      <td>2570</td>\n",
       "      <td>8</td>\n",
       "      <td>1987</td>\n",
       "    </tr>\n",
       "    <tr>\n",
       "      <th>1295</th>\n",
       "      <td>3</td>\n",
       "      <td>1</td>\n",
       "      <td>1150</td>\n",
       "      <td>6</td>\n",
       "      <td>1946</td>\n",
       "    </tr>\n",
       "    <tr>\n",
       "      <th>15670</th>\n",
       "      <td>8</td>\n",
       "      <td>2</td>\n",
       "      <td>2530</td>\n",
       "      <td>7</td>\n",
       "      <td>1901</td>\n",
       "    </tr>\n",
       "    <tr>\n",
       "      <th>3913</th>\n",
       "      <td>3</td>\n",
       "      <td>1</td>\n",
       "      <td>1240</td>\n",
       "      <td>8</td>\n",
       "      <td>1968</td>\n",
       "    </tr>\n",
       "  </tbody>\n",
       "</table>\n",
       "</div>"
      ],
      "text/plain": [
       "       bedrooms  bathrooms  sqft_living  grade  yr_built\n",
       "8583          2          1         1930      8      1989\n",
       "19257         5          2         2570      8      1987\n",
       "1295          3          1         1150      6      1946\n",
       "15670         8          2         2530      7      1901\n",
       "3913          3          1         1240      8      1968"
      ]
     },
     "execution_count": 89,
     "metadata": {},
     "output_type": "execute_result"
    }
   ],
   "source": [
    "X_train.head()"
   ]
  },
  {
   "cell_type": "raw",
   "id": "6eabecda",
   "metadata": {},
   "source": [
    "Model.predict([[0.02,21.56,0.75,7.56,21,250,18.20,11.75]])\n",
    "# memprediksi data baru\n",
    "# data yg tidak ada di dataset"
   ]
  },
  {
   "cell_type": "raw",
   "id": "706e65d1",
   "metadata": {},
   "source": [
    "Model.predict([[0,0,0,0,0,0,0,0]])"
   ]
  },
  {
   "cell_type": "code",
   "execution_count": 92,
   "id": "5859449c",
   "metadata": {},
   "outputs": [],
   "source": [
    "pred_train = Model.predict(X_train)"
   ]
  },
  {
   "cell_type": "code",
   "execution_count": 93,
   "id": "6eb34061",
   "metadata": {},
   "outputs": [
    {
     "data": {
      "image/png": "[encoded data removed]",
      "text/plain": [
       "<Figure size 432x288 with 1 Axes>"
      ]
     },
     "metadata": {
      "needs_background": "light"
     },
     "output_type": "display_data"
    }
   ],
   "source": [
    "plt.scatter(y_train, pred_train, s=20)\n",
    "plt.xlabel(\"Data Aktual\")\n",
    "plt.ylabel(\"Data Prediksi\")\n",
    "plt.show()\n",
    "# s=20 menunjukan size "
   ]
  },
  {
   "cell_type": "code",
   "execution_count": 94,
   "id": "963fa3d4",
   "metadata": {},
   "outputs": [],
   "source": [
    "pred_test = Model.predict(X_test)"
   ]
  },
  {
   "cell_type": "code",
   "execution_count": 95,
   "id": "68d285de",
   "metadata": {},
   "outputs": [
    {
     "data": {
      "image/png": "[encoded data removed]",
      "text/plain": [
       "<Figure size 432x288 with 1 Axes>"
      ]
     },
     "metadata": {
      "needs_background": "light"
     },
     "output_type": "display_data"
    }
   ],
   "source": [
    "plt.scatter(y_test, pred_test, s=20)\n",
    "plt.xlabel(\"Data Aktual\")\n",
    "plt.ylabel(\"Data Prediksi\")\n",
    "plt.show()"
   ]
  },
  {
   "cell_type": "code",
   "execution_count": 96,
   "id": "fad17616",
   "metadata": {},
   "outputs": [
    {
     "data": {
      "text/html": [
       "<div>\n",
       "<style scoped>\n",
       "    .dataframe tbody tr th:only-of-type {\n",
       "        vertical-align: middle;\n",
       "    }\n",
       "\n",
       "    .dataframe tbody tr th {\n",
       "        vertical-align: top;\n",
       "    }\n",
       "\n",
       "    .dataframe thead th {\n",
       "        text-align: right;\n",
       "    }\n",
       "</style>\n",
       "<table border=\"1\" class=\"dataframe\">\n",
       "  <thead>\n",
       "    <tr style=\"text-align: right;\">\n",
       "      <th></th>\n",
       "      <th>bedrooms</th>\n",
       "      <th>bathrooms</th>\n",
       "      <th>sqft_living</th>\n",
       "      <th>grade</th>\n",
       "      <th>yr_built</th>\n",
       "      <th>price</th>\n",
       "    </tr>\n",
       "  </thead>\n",
       "  <tbody>\n",
       "    <tr>\n",
       "      <th>8583</th>\n",
       "      <td>2</td>\n",
       "      <td>1</td>\n",
       "      <td>1930</td>\n",
       "      <td>8</td>\n",
       "      <td>1989</td>\n",
       "      <td>509000.0</td>\n",
       "    </tr>\n",
       "    <tr>\n",
       "      <th>19257</th>\n",
       "      <td>5</td>\n",
       "      <td>2</td>\n",
       "      <td>2570</td>\n",
       "      <td>8</td>\n",
       "      <td>1987</td>\n",
       "      <td>675000.0</td>\n",
       "    </tr>\n",
       "    <tr>\n",
       "      <th>1295</th>\n",
       "      <td>3</td>\n",
       "      <td>1</td>\n",
       "      <td>1150</td>\n",
       "      <td>6</td>\n",
       "      <td>1946</td>\n",
       "      <td>420000.0</td>\n",
       "    </tr>\n",
       "    <tr>\n",
       "      <th>15670</th>\n",
       "      <td>8</td>\n",
       "      <td>2</td>\n",
       "      <td>2530</td>\n",
       "      <td>7</td>\n",
       "      <td>1901</td>\n",
       "      <td>680000.0</td>\n",
       "    </tr>\n",
       "    <tr>\n",
       "      <th>3913</th>\n",
       "      <td>3</td>\n",
       "      <td>1</td>\n",
       "      <td>1240</td>\n",
       "      <td>8</td>\n",
       "      <td>1968</td>\n",
       "      <td>357823.0</td>\n",
       "    </tr>\n",
       "    <tr>\n",
       "      <th>...</th>\n",
       "      <td>...</td>\n",
       "      <td>...</td>\n",
       "      <td>...</td>\n",
       "      <td>...</td>\n",
       "      <td>...</td>\n",
       "      <td>...</td>\n",
       "    </tr>\n",
       "    <tr>\n",
       "      <th>16840</th>\n",
       "      <td>2</td>\n",
       "      <td>1</td>\n",
       "      <td>1230</td>\n",
       "      <td>9</td>\n",
       "      <td>2009</td>\n",
       "      <td>540000.0</td>\n",
       "    </tr>\n",
       "    <tr>\n",
       "      <th>11863</th>\n",
       "      <td>3</td>\n",
       "      <td>2</td>\n",
       "      <td>1910</td>\n",
       "      <td>8</td>\n",
       "      <td>1989</td>\n",
       "      <td>498688.0</td>\n",
       "    </tr>\n",
       "    <tr>\n",
       "      <th>17093</th>\n",
       "      <td>4</td>\n",
       "      <td>2</td>\n",
       "      <td>2100</td>\n",
       "      <td>8</td>\n",
       "      <td>1968</td>\n",
       "      <td>640000.0</td>\n",
       "    </tr>\n",
       "    <tr>\n",
       "      <th>8366</th>\n",
       "      <td>3</td>\n",
       "      <td>1</td>\n",
       "      <td>1610</td>\n",
       "      <td>7</td>\n",
       "      <td>1961</td>\n",
       "      <td>262500.0</td>\n",
       "    </tr>\n",
       "    <tr>\n",
       "      <th>17530</th>\n",
       "      <td>4</td>\n",
       "      <td>2</td>\n",
       "      <td>3090</td>\n",
       "      <td>7</td>\n",
       "      <td>1990</td>\n",
       "      <td>870000.0</td>\n",
       "    </tr>\n",
       "  </tbody>\n",
       "</table>\n",
       "<p>17290 rows × 6 columns</p>\n",
       "</div>"
      ],
      "text/plain": [
       "       bedrooms  bathrooms  sqft_living  grade  yr_built     price\n",
       "8583          2          1         1930      8      1989  509000.0\n",
       "19257         5          2         2570      8      1987  675000.0\n",
       "1295          3          1         1150      6      1946  420000.0\n",
       "15670         8          2         2530      7      1901  680000.0\n",
       "3913          3          1         1240      8      1968  357823.0\n",
       "...         ...        ...          ...    ...       ...       ...\n",
       "16840         2          1         1230      9      2009  540000.0\n",
       "11863         3          2         1910      8      1989  498688.0\n",
       "17093         4          2         2100      8      1968  640000.0\n",
       "8366          3          1         1610      7      1961  262500.0\n",
       "17530         4          2         3090      7      1990  870000.0\n",
       "\n",
       "[17290 rows x 6 columns]"
      ]
     },
     "execution_count": 96,
     "metadata": {},
     "output_type": "execute_result"
    }
   ],
   "source": [
    "pd.concat([X_train, y_train],axis=1)"
   ]
  },
  {
   "cell_type": "markdown",
   "id": "620d5ea0",
   "metadata": {},
   "source": [
    "Analisa error training set"
   ]
  },
  {
   "cell_type": "code",
   "execution_count": 97,
   "id": "6fb92a8e",
   "metadata": {},
   "outputs": [],
   "source": [
    "Training_set = pd.concat([X_train, y_train],axis=1)"
   ]
  },
  {
   "cell_type": "code",
   "execution_count": 98,
   "id": "385d7d6e",
   "metadata": {},
   "outputs": [],
   "source": [
    "Testing_set = pd.concat([X_train, y_train],axis=1)"
   ]
  },
  {
   "cell_type": "code",
   "execution_count": 99,
   "id": "12969b99",
   "metadata": {},
   "outputs": [
    {
     "data": {
      "text/html": [
       "<div>\n",
       "<style scoped>\n",
       "    .dataframe tbody tr th:only-of-type {\n",
       "        vertical-align: middle;\n",
       "    }\n",
       "\n",
       "    .dataframe tbody tr th {\n",
       "        vertical-align: top;\n",
       "    }\n",
       "\n",
       "    .dataframe thead th {\n",
       "        text-align: right;\n",
       "    }\n",
       "</style>\n",
       "<table border=\"1\" class=\"dataframe\">\n",
       "  <thead>\n",
       "    <tr style=\"text-align: right;\">\n",
       "      <th></th>\n",
       "      <th>bedrooms</th>\n",
       "      <th>bathrooms</th>\n",
       "      <th>sqft_living</th>\n",
       "      <th>grade</th>\n",
       "      <th>yr_built</th>\n",
       "      <th>price</th>\n",
       "      <th>price_pred</th>\n",
       "    </tr>\n",
       "  </thead>\n",
       "  <tbody>\n",
       "    <tr>\n",
       "      <th>8583</th>\n",
       "      <td>2</td>\n",
       "      <td>1</td>\n",
       "      <td>1930</td>\n",
       "      <td>8</td>\n",
       "      <td>1989</td>\n",
       "      <td>509000.0</td>\n",
       "      <td>509573.848088</td>\n",
       "    </tr>\n",
       "    <tr>\n",
       "      <th>19257</th>\n",
       "      <td>5</td>\n",
       "      <td>2</td>\n",
       "      <td>2570</td>\n",
       "      <td>8</td>\n",
       "      <td>1987</td>\n",
       "      <td>675000.0</td>\n",
       "      <td>543888.187291</td>\n",
       "    </tr>\n",
       "    <tr>\n",
       "      <th>1295</th>\n",
       "      <td>3</td>\n",
       "      <td>1</td>\n",
       "      <td>1150</td>\n",
       "      <td>6</td>\n",
       "      <td>1946</td>\n",
       "      <td>420000.0</td>\n",
       "      <td>217272.084757</td>\n",
       "    </tr>\n",
       "    <tr>\n",
       "      <th>15670</th>\n",
       "      <td>8</td>\n",
       "      <td>2</td>\n",
       "      <td>2530</td>\n",
       "      <td>7</td>\n",
       "      <td>1901</td>\n",
       "      <td>680000.0</td>\n",
       "      <td>587237.672508</td>\n",
       "    </tr>\n",
       "    <tr>\n",
       "      <th>3913</th>\n",
       "      <td>3</td>\n",
       "      <td>1</td>\n",
       "      <td>1240</td>\n",
       "      <td>8</td>\n",
       "      <td>1968</td>\n",
       "      <td>357823.0</td>\n",
       "      <td>409525.426283</td>\n",
       "    </tr>\n",
       "    <tr>\n",
       "      <th>...</th>\n",
       "      <td>...</td>\n",
       "      <td>...</td>\n",
       "      <td>...</td>\n",
       "      <td>...</td>\n",
       "      <td>...</td>\n",
       "      <td>...</td>\n",
       "      <td>...</td>\n",
       "    </tr>\n",
       "    <tr>\n",
       "      <th>16840</th>\n",
       "      <td>2</td>\n",
       "      <td>1</td>\n",
       "      <td>1230</td>\n",
       "      <td>9</td>\n",
       "      <td>2009</td>\n",
       "      <td>540000.0</td>\n",
       "      <td>429237.092764</td>\n",
       "    </tr>\n",
       "    <tr>\n",
       "      <th>11863</th>\n",
       "      <td>3</td>\n",
       "      <td>2</td>\n",
       "      <td>1910</td>\n",
       "      <td>8</td>\n",
       "      <td>1989</td>\n",
       "      <td>498688.0</td>\n",
       "      <td>517392.466083</td>\n",
       "    </tr>\n",
       "    <tr>\n",
       "      <th>17093</th>\n",
       "      <td>4</td>\n",
       "      <td>2</td>\n",
       "      <td>2100</td>\n",
       "      <td>8</td>\n",
       "      <td>1968</td>\n",
       "      <td>640000.0</td>\n",
       "      <td>583584.196097</td>\n",
       "    </tr>\n",
       "    <tr>\n",
       "      <th>8366</th>\n",
       "      <td>3</td>\n",
       "      <td>1</td>\n",
       "      <td>1610</td>\n",
       "      <td>7</td>\n",
       "      <td>1961</td>\n",
       "      <td>262500.0</td>\n",
       "      <td>375917.866586</td>\n",
       "    </tr>\n",
       "    <tr>\n",
       "      <th>17530</th>\n",
       "      <td>4</td>\n",
       "      <td>2</td>\n",
       "      <td>3090</td>\n",
       "      <td>7</td>\n",
       "      <td>1990</td>\n",
       "      <td>870000.0</td>\n",
       "      <td>551983.188607</td>\n",
       "    </tr>\n",
       "  </tbody>\n",
       "</table>\n",
       "<p>17290 rows × 7 columns</p>\n",
       "</div>"
      ],
      "text/plain": [
       "       bedrooms  bathrooms  sqft_living  grade  yr_built     price  \\\n",
       "8583          2          1         1930      8      1989  509000.0   \n",
       "19257         5          2         2570      8      1987  675000.0   \n",
       "1295          3          1         1150      6      1946  420000.0   \n",
       "15670         8          2         2530      7      1901  680000.0   \n",
       "3913          3          1         1240      8      1968  357823.0   \n",
       "...         ...        ...          ...    ...       ...       ...   \n",
       "16840         2          1         1230      9      2009  540000.0   \n",
       "11863         3          2         1910      8      1989  498688.0   \n",
       "17093         4          2         2100      8      1968  640000.0   \n",
       "8366          3          1         1610      7      1961  262500.0   \n",
       "17530         4          2         3090      7      1990  870000.0   \n",
       "\n",
       "          price_pred  \n",
       "8583   509573.848088  \n",
       "19257  543888.187291  \n",
       "1295   217272.084757  \n",
       "15670  587237.672508  \n",
       "3913   409525.426283  \n",
       "...              ...  \n",
       "16840  429237.092764  \n",
       "11863  517392.466083  \n",
       "17093  583584.196097  \n",
       "8366   375917.866586  \n",
       "17530  551983.188607  \n",
       "\n",
       "[17290 rows x 7 columns]"
      ]
     },
     "execution_count": 99,
     "metadata": {},
     "output_type": "execute_result"
    }
   ],
   "source": [
    "Training_set['price_pred'] = pred_train\n",
    "Training_set"
   ]
  },
  {
   "cell_type": "code",
   "execution_count": 102,
   "id": "987cbe65",
   "metadata": {},
   "outputs": [],
   "source": [
    "Training_set['Error'] = abs(Training_set['price'] -Training_set['price_pred']) "
   ]
  },
  {
   "cell_type": "code",
   "execution_count": 103,
   "id": "125eb3fc",
   "metadata": {},
   "outputs": [
    {
     "data": {
      "image/png": "[encoded data removed]",
      "text/plain": [
       "<Figure size 432x288 with 1 Axes>"
      ]
     },
     "metadata": {
      "needs_background": "light"
     },
     "output_type": "display_data"
    }
   ],
   "source": [
    "plt.scatter(Training_set['price'], Training_set['Error'], s=30)\n",
    "plt.xlabel(\"Data Aktual\")\n",
    "plt.ylabel(\"Error\")\n",
    "plt.show()"
   ]
  },
  {
   "cell_type": "code",
   "execution_count": 104,
   "id": "6cf1c8da",
   "metadata": {},
   "outputs": [
    {
     "data": {
      "image/png": "[encoded data removed]",
      "text/plain": [
       "<Figure size 432x288 with 1 Axes>"
      ]
     },
     "metadata": {
      "needs_background": "light"
     },
     "output_type": "display_data"
    }
   ],
   "source": [
    "sns.distplot(Training_set['Error'])\n",
    "plt.show()"
   ]
  },
  {
   "cell_type": "code",
   "execution_count": 105,
   "id": "19c9a6f4",
   "metadata": {},
   "outputs": [
    {
     "data": {
      "text/plain": [
       "145758.21263200828"
      ]
     },
     "execution_count": 105,
     "metadata": {},
     "output_type": "execute_result"
    }
   ],
   "source": [
    "Training_set['Error'].mean()"
   ]
  },
  {
   "cell_type": "code",
   "execution_count": 106,
   "id": "bad18b71",
   "metadata": {},
   "outputs": [
    {
     "data": {
      "text/html": [
       "<div>\n",
       "<style scoped>\n",
       "    .dataframe tbody tr th:only-of-type {\n",
       "        vertical-align: middle;\n",
       "    }\n",
       "\n",
       "    .dataframe tbody tr th {\n",
       "        vertical-align: top;\n",
       "    }\n",
       "\n",
       "    .dataframe thead th {\n",
       "        text-align: right;\n",
       "    }\n",
       "</style>\n",
       "<table border=\"1\" class=\"dataframe\">\n",
       "  <thead>\n",
       "    <tr style=\"text-align: right;\">\n",
       "      <th></th>\n",
       "      <th>bedrooms</th>\n",
       "      <th>bathrooms</th>\n",
       "      <th>sqft_living</th>\n",
       "      <th>grade</th>\n",
       "      <th>yr_built</th>\n",
       "      <th>price</th>\n",
       "      <th>price_pred</th>\n",
       "      <th>Error</th>\n",
       "    </tr>\n",
       "  </thead>\n",
       "  <tbody>\n",
       "    <tr>\n",
       "      <th>3914</th>\n",
       "      <td>5</td>\n",
       "      <td>4</td>\n",
       "      <td>10040</td>\n",
       "      <td>11</td>\n",
       "      <td>1940</td>\n",
       "      <td>7062500.0</td>\n",
       "      <td>2.664799e+06</td>\n",
       "      <td>4.397701e+06</td>\n",
       "    </tr>\n",
       "    <tr>\n",
       "      <th>9254</th>\n",
       "      <td>6</td>\n",
       "      <td>7</td>\n",
       "      <td>9890</td>\n",
       "      <td>13</td>\n",
       "      <td>2001</td>\n",
       "      <td>6885000.0</td>\n",
       "      <td>2.797816e+06</td>\n",
       "      <td>4.087184e+06</td>\n",
       "    </tr>\n",
       "    <tr>\n",
       "      <th>7252</th>\n",
       "      <td>6</td>\n",
       "      <td>8</td>\n",
       "      <td>12050</td>\n",
       "      <td>13</td>\n",
       "      <td>1910</td>\n",
       "      <td>7700000.0</td>\n",
       "      <td>3.631748e+06</td>\n",
       "      <td>4.068252e+06</td>\n",
       "    </tr>\n",
       "    <tr>\n",
       "      <th>4411</th>\n",
       "      <td>5</td>\n",
       "      <td>5</td>\n",
       "      <td>9200</td>\n",
       "      <td>13</td>\n",
       "      <td>2001</td>\n",
       "      <td>5570000.0</td>\n",
       "      <td>2.591213e+06</td>\n",
       "      <td>2.978787e+06</td>\n",
       "    </tr>\n",
       "    <tr>\n",
       "      <th>1164</th>\n",
       "      <td>5</td>\n",
       "      <td>5</td>\n",
       "      <td>8010</td>\n",
       "      <td>12</td>\n",
       "      <td>1999</td>\n",
       "      <td>5110800.0</td>\n",
       "      <td>2.243059e+06</td>\n",
       "      <td>2.867741e+06</td>\n",
       "    </tr>\n",
       "    <tr>\n",
       "      <th>2626</th>\n",
       "      <td>5</td>\n",
       "      <td>5</td>\n",
       "      <td>6640</td>\n",
       "      <td>12</td>\n",
       "      <td>2004</td>\n",
       "      <td>4500000.0</td>\n",
       "      <td>1.964406e+06</td>\n",
       "      <td>2.535594e+06</td>\n",
       "    </tr>\n",
       "    <tr>\n",
       "      <th>21576</th>\n",
       "      <td>5</td>\n",
       "      <td>4</td>\n",
       "      <td>4850</td>\n",
       "      <td>10</td>\n",
       "      <td>2007</td>\n",
       "      <td>3567000.0</td>\n",
       "      <td>1.287109e+06</td>\n",
       "      <td>2.279891e+06</td>\n",
       "    </tr>\n",
       "    <tr>\n",
       "      <th>15255</th>\n",
       "      <td>4</td>\n",
       "      <td>3</td>\n",
       "      <td>4830</td>\n",
       "      <td>11</td>\n",
       "      <td>1990</td>\n",
       "      <td>3640900.0</td>\n",
       "      <td>1.470507e+06</td>\n",
       "      <td>2.170393e+06</td>\n",
       "    </tr>\n",
       "    <tr>\n",
       "      <th>18482</th>\n",
       "      <td>5</td>\n",
       "      <td>3</td>\n",
       "      <td>5020</td>\n",
       "      <td>12</td>\n",
       "      <td>2007</td>\n",
       "      <td>3650000.0</td>\n",
       "      <td>1.517147e+06</td>\n",
       "      <td>2.132853e+06</td>\n",
       "    </tr>\n",
       "    <tr>\n",
       "      <th>2085</th>\n",
       "      <td>4</td>\n",
       "      <td>4</td>\n",
       "      <td>5770</td>\n",
       "      <td>11</td>\n",
       "      <td>1980</td>\n",
       "      <td>3850000.0</td>\n",
       "      <td>1.752436e+06</td>\n",
       "      <td>2.097564e+06</td>\n",
       "    </tr>\n",
       "  </tbody>\n",
       "</table>\n",
       "</div>"
      ],
      "text/plain": [
       "       bedrooms  bathrooms  sqft_living  grade  yr_built      price  \\\n",
       "3914          5          4        10040     11      1940  7062500.0   \n",
       "9254          6          7         9890     13      2001  6885000.0   \n",
       "7252          6          8        12050     13      1910  7700000.0   \n",
       "4411          5          5         9200     13      2001  5570000.0   \n",
       "1164          5          5         8010     12      1999  5110800.0   \n",
       "2626          5          5         6640     12      2004  4500000.0   \n",
       "21576         5          4         4850     10      2007  3567000.0   \n",
       "15255         4          3         4830     11      1990  3640900.0   \n",
       "18482         5          3         5020     12      2007  3650000.0   \n",
       "2085          4          4         5770     11      1980  3850000.0   \n",
       "\n",
       "         price_pred         Error  \n",
       "3914   2.664799e+06  4.397701e+06  \n",
       "9254   2.797816e+06  4.087184e+06  \n",
       "7252   3.631748e+06  4.068252e+06  \n",
       "4411   2.591213e+06  2.978787e+06  \n",
       "1164   2.243059e+06  2.867741e+06  \n",
       "2626   1.964406e+06  2.535594e+06  \n",
       "21576  1.287109e+06  2.279891e+06  \n",
       "15255  1.470507e+06  2.170393e+06  \n",
       "18482  1.517147e+06  2.132853e+06  \n",
       "2085   1.752436e+06  2.097564e+06  "
      ]
     },
     "execution_count": 106,
     "metadata": {},
     "output_type": "execute_result"
    }
   ],
   "source": [
    "Training_set.sort_values('Error', ascending=False).head(10)"
   ]
  },
  {
   "cell_type": "code",
   "execution_count": 107,
   "id": "a59e5496",
   "metadata": {},
   "outputs": [],
   "source": [
    "error_train = abs(y_train - pred_train)"
   ]
  },
  {
   "cell_type": "code",
   "execution_count": 108,
   "id": "a6677592",
   "metadata": {},
   "outputs": [],
   "source": [
    "error_test = abs(y_test - pred_test)"
   ]
  },
  {
   "cell_type": "markdown",
   "id": "3140d2b0",
   "metadata": {},
   "source": [
    "# Evaluation Matrix Calculation"
   ]
  },
  {
   "cell_type": "code",
   "execution_count": 109,
   "id": "6d4206bf",
   "metadata": {},
   "outputs": [],
   "source": [
    "from sklearn.metrics import mean_absolute_error, r2_score, mean_squared_error, median_absolute_error"
   ]
  },
  {
   "cell_type": "markdown",
   "id": "ca83f158",
   "metadata": {},
   "source": [
    "## Evaluation untuk data training"
   ]
  },
  {
   "cell_type": "code",
   "execution_count": 110,
   "id": "cabe79bb",
   "metadata": {},
   "outputs": [
    {
     "data": {
      "text/plain": [
       "8583     509000.0\n",
       "19257    675000.0\n",
       "1295     420000.0\n",
       "15670    680000.0\n",
       "3913     357823.0\n",
       "           ...   \n",
       "16840    540000.0\n",
       "11863    498688.0\n",
       "17093    640000.0\n",
       "8366     262500.0\n",
       "17530    870000.0\n",
       "Name: price, Length: 17290, dtype: float64"
      ]
     },
     "execution_count": 110,
     "metadata": {},
     "output_type": "execute_result"
    }
   ],
   "source": [
    "y_train"
   ]
  },
  {
   "cell_type": "code",
   "execution_count": 112,
   "id": "e608c2d8",
   "metadata": {},
   "outputs": [],
   "source": [
    "pred_train = Model.predict(X_train)"
   ]
  },
  {
   "cell_type": "code",
   "execution_count": 113,
   "id": "cf9a70e9",
   "metadata": {},
   "outputs": [
    {
     "data": {
      "text/plain": [
       "0.6188434181757463"
      ]
     },
     "execution_count": 113,
     "metadata": {},
     "output_type": "execute_result"
    }
   ],
   "source": [
    "r2_train = r2_score(y_train, pred_train)\n",
    "r2_train"
   ]
  },
  {
   "cell_type": "code",
   "execution_count": 114,
   "id": "88148436",
   "metadata": {},
   "outputs": [
    {
     "data": {
      "text/plain": [
       "145758.21263200822"
      ]
     },
     "execution_count": 114,
     "metadata": {},
     "output_type": "execute_result"
    }
   ],
   "source": [
    "MAE_train = mean_absolute_error(y_train, pred_train)\n",
    "MAE_train"
   ]
  },
  {
   "cell_type": "code",
   "execution_count": 115,
   "id": "1f556d85",
   "metadata": {},
   "outputs": [
    {
     "data": {
      "text/plain": [
       "51888750957.394844"
      ]
     },
     "execution_count": 115,
     "metadata": {},
     "output_type": "execute_result"
    }
   ],
   "source": [
    "MSE_train = mean_squared_error(y_train, pred_train)\n",
    "MSE_train"
   ]
  },
  {
   "cell_type": "code",
   "execution_count": 116,
   "id": "980b6bb5",
   "metadata": {},
   "outputs": [
    {
     "data": {
      "text/plain": [
       "227791.0247516237"
      ]
     },
     "execution_count": 116,
     "metadata": {},
     "output_type": "execute_result"
    }
   ],
   "source": [
    "RMSE_train = np.sqrt(MSE_train)\n",
    "RMSE_train"
   ]
  },
  {
   "cell_type": "code",
   "execution_count": 117,
   "id": "0c9f673c",
   "metadata": {},
   "outputs": [
    {
     "name": "stdout",
     "output_type": "stream",
     "text": [
      "Hasil Evaluation Matrix untuk Data Training\n",
      "************************************************** **************************************************\n",
      "Nilai R Squared :  0.62\n",
      "Nilai MAE :  145758.21\n",
      "Nilai MSE :  51888750957.39\n",
      "Nilai RMSE :  227791.02\n"
     ]
    }
   ],
   "source": [
    "print(\"Hasil Evaluation Matrix untuk Data Training\")\n",
    "print((\"*\" *50),(\"*\" *50))\n",
    "print(\"Nilai R Squared : \", r2_train.round(2))\n",
    "print(\"Nilai MAE : \", MAE_train.round(2))\n",
    "print(\"Nilai MSE : \", MSE_train.round(2))\n",
    "print(\"Nilai RMSE : \", RMSE_train.round(2))"
   ]
  },
  {
   "cell_type": "markdown",
   "id": "83b4899b",
   "metadata": {},
   "source": [
    "## Evaluation untuk data testing"
   ]
  },
  {
   "cell_type": "code",
   "execution_count": 118,
   "id": "d25f4095",
   "metadata": {},
   "outputs": [
    {
     "data": {
      "text/plain": [
       "13248    311100.0\n",
       "5309     535000.0\n",
       "10962    271000.0\n",
       "20976    705000.0\n",
       "19957    840000.0\n",
       "           ...   \n",
       "8527     610000.0\n",
       "16521    187000.0\n",
       "17198    305000.0\n",
       "7539     809000.0\n",
       "4853     840000.0\n",
       "Name: price, Length: 4323, dtype: float64"
      ]
     },
     "execution_count": 118,
     "metadata": {},
     "output_type": "execute_result"
    }
   ],
   "source": [
    "y_test\n",
    "#kunci jawaban/ujian sesungguhnya"
   ]
  },
  {
   "cell_type": "code",
   "execution_count": 119,
   "id": "d14da9cb",
   "metadata": {},
   "outputs": [],
   "source": [
    "pred_test = Model.predict(X_test)\n",
    "# Model menjawab ujian sesungguhnya -> model memprediksi data testing"
   ]
  },
  {
   "cell_type": "code",
   "execution_count": 120,
   "id": "b46cb70c",
   "metadata": {},
   "outputs": [
    {
     "data": {
      "text/plain": [
       "0.6125113286941102"
      ]
     },
     "execution_count": 120,
     "metadata": {},
     "output_type": "execute_result"
    }
   ],
   "source": [
    "r2_test = r2_score(y_test, pred_test)\n",
    "r2_test"
   ]
  },
  {
   "cell_type": "code",
   "execution_count": 121,
   "id": "65b1124a",
   "metadata": {},
   "outputs": [
    {
     "data": {
      "text/plain": [
       "145394.52433687972"
      ]
     },
     "execution_count": 121,
     "metadata": {},
     "output_type": "execute_result"
    }
   ],
   "source": [
    "MAE_test = mean_absolute_error(y_test, pred_test)\n",
    "MAE_test"
   ]
  },
  {
   "cell_type": "code",
   "execution_count": 122,
   "id": "f976eb0b",
   "metadata": {},
   "outputs": [
    {
     "data": {
      "text/plain": [
       "50117484545.41469"
      ]
     },
     "execution_count": 122,
     "metadata": {},
     "output_type": "execute_result"
    }
   ],
   "source": [
    "MSE_test = mean_squared_error(y_test, pred_test)\n",
    "MSE_test"
   ]
  },
  {
   "cell_type": "code",
   "execution_count": 123,
   "id": "f6bd3ffc",
   "metadata": {},
   "outputs": [
    {
     "data": {
      "text/plain": [
       "223869.34704290066"
      ]
     },
     "execution_count": 123,
     "metadata": {},
     "output_type": "execute_result"
    }
   ],
   "source": [
    "RMSE_test = np.sqrt(MSE_test)\n",
    "RMSE_test"
   ]
  },
  {
   "cell_type": "code",
   "execution_count": 124,
   "id": "77e409d7",
   "metadata": {},
   "outputs": [
    {
     "name": "stdout",
     "output_type": "stream",
     "text": [
      "Hasil Evaluation Matrix untuk Data Test\n",
      "************************************************** **************************************************\n",
      "Nilai R Squared :  0.61\n",
      "Nilai MAE :  145394.52\n",
      "Nilai MSE :  50117484545.41\n",
      "Nilai RMSE :  223869.35\n"
     ]
    }
   ],
   "source": [
    "print(\"Hasil Evaluation Matrix untuk Data Test\")\n",
    "print((\"*\" *50),(\"*\" *50))\n",
    "print(\"Nilai R Squared : \", r2_test.round(2))\n",
    "print(\"Nilai MAE : \", MAE_test.round(2))\n",
    "print(\"Nilai MSE : \", MSE_test.round(2))\n",
    "print(\"Nilai RMSE : \", RMSE_test.round(2))"
   ]
  },
  {
   "cell_type": "code",
   "execution_count": 125,
   "id": "a7ed606f",
   "metadata": {},
   "outputs": [],
   "source": [
    "data = {\n",
    "    \"Training\" : [r2_train, MAE_train, MSE_train,RMSE_train],\n",
    "    \"Testing\" : [r2_test, MAE_test, MSE_test,RMSE_test]\n",
    "}"
   ]
  },
  {
   "cell_type": "code",
   "execution_count": 126,
   "id": "e3a82277",
   "metadata": {},
   "outputs": [
    {
     "data": {
      "text/html": [
       "<div>\n",
       "<style scoped>\n",
       "    .dataframe tbody tr th:only-of-type {\n",
       "        vertical-align: middle;\n",
       "    }\n",
       "\n",
       "    .dataframe tbody tr th {\n",
       "        vertical-align: top;\n",
       "    }\n",
       "\n",
       "    .dataframe thead th {\n",
       "        text-align: right;\n",
       "    }\n",
       "</style>\n",
       "<table border=\"1\" class=\"dataframe\">\n",
       "  <thead>\n",
       "    <tr style=\"text-align: right;\">\n",
       "      <th></th>\n",
       "      <th>Training</th>\n",
       "      <th>Testing</th>\n",
       "    </tr>\n",
       "  </thead>\n",
       "  <tbody>\n",
       "    <tr>\n",
       "      <th>R Squared</th>\n",
       "      <td>6.188434e-01</td>\n",
       "      <td>6.125113e-01</td>\n",
       "    </tr>\n",
       "    <tr>\n",
       "      <th>MAE</th>\n",
       "      <td>1.457582e+05</td>\n",
       "      <td>1.453945e+05</td>\n",
       "    </tr>\n",
       "    <tr>\n",
       "      <th>MSE</th>\n",
       "      <td>5.188875e+10</td>\n",
       "      <td>5.011748e+10</td>\n",
       "    </tr>\n",
       "    <tr>\n",
       "      <th>RMSE</th>\n",
       "      <td>2.277910e+05</td>\n",
       "      <td>2.238693e+05</td>\n",
       "    </tr>\n",
       "  </tbody>\n",
       "</table>\n",
       "</div>"
      ],
      "text/plain": [
       "               Training       Testing\n",
       "R Squared  6.188434e-01  6.125113e-01\n",
       "MAE        1.457582e+05  1.453945e+05\n",
       "MSE        5.188875e+10  5.011748e+10\n",
       "RMSE       2.277910e+05  2.238693e+05"
      ]
     },
     "execution_count": 126,
     "metadata": {},
     "output_type": "execute_result"
    }
   ],
   "source": [
    "pd.DataFrame(data, index=[\"R Squared\",\"MAE\",\"MSE\",\"RMSE\"])\n",
    "# membandingkan training dan testing\n",
    "# hasilnuya jelek(underfitting)"
   ]
  },
  {
   "cell_type": "markdown",
   "id": "52af11b5",
   "metadata": {},
   "source": [
    "Hasil dari evaluasi matrix hasil R squared dan Error masih jauh dari bagus. Diperlukan improvement agara nilai R squared bisa mendekati 0.9 at least."
   ]
  },
  {
   "cell_type": "code",
   "execution_count": null,
   "id": "a7341235",
   "metadata": {},
   "outputs": [],
   "source": []
  }
 ],
 "metadata": {
  "kernelspec": {
   "display_name": "Python 3 (ipykernel)",
   "language": "python",
   "name": "python3"
  },
  "language_info": {
   "codemirror_mode": {
    "name": "ipython",
    "version": 3
   },
   "file_extension": ".py",
   "mimetype": "text/x-python",
   "name": "python",
   "nbconvert_exporter": "python",
   "pygments_lexer": "ipython3",
   "version": "3.9.7"
  }
 },
 "nbformat": 4,
 "nbformat_minor": 5
}
